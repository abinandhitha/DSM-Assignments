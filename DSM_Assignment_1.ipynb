{
 "cells": [
  {
   "cell_type": "markdown",
   "id": "c22fe0b3",
   "metadata": {},
   "source": [
    "1. In the below elements which of them are values or an expression? eg:- values can be integer or string and expressions will be mathematical operators.\n",
    "\n",
    "* - expression\n",
    "'hello' - value\n",
    "-87.8 - value\n",
    "- - expression\n",
    "/ - expression\n",
    "+ - expression\n",
    "6 - value"
   ]
  },
  {
   "cell_type": "markdown",
   "id": "e2df1f86",
   "metadata": {},
   "source": [
    "2. What is the difference between string and variable?\n",
    "\n",
    "- String is a datatype in python which can hold an array of characters. A string variable is an iterable object and is immutable. It is represented by enclosing the characters within single or double quotes.\n",
    "For example, s=\"Ineuron\"\n",
    "\n",
    "- Variable is a placeholder that can hold any value. It can be of any datatype. Space is allocated in the main memory and can be accessed by using the variable name.\n",
    "For example, a=10"
   ]
  },
  {
   "cell_type": "markdown",
   "id": "6581dca7",
   "metadata": {},
   "source": [
    "3. Describe three different data types.\n",
    "\n",
    "- Int - Int is a datatype that is used to hold integers. An integer object is non iterable and not subscriptable. \n",
    "  For example, a=20\n",
    "    \n",
    "- List - List is a datatype that is used to hold an array of homogeneous and heterogeneous objects. List is an iterable object and is mutable. \n",
    "  For example, b=[1,2,False,\"Ineuron\",[37,98,45.98,[\"Data\",\"Science\"],(5,8)],9+8j]\n",
    "    \n",
    "- Dictionary - Dictionary is a datatype that is used for holding key value pairs. Keys are unique. A dictionary object is iterable. \n",
    "  For example, c={\"key1\":\"value1\",2:[1,2,3],False:(1,2)}"
   ]
  },
  {
   "cell_type": "markdown",
   "id": "1093c814",
   "metadata": {},
   "source": [
    "4. What is an expression made up of? What do all expressions do?\n",
    "\n",
    "An expression is a combination of operators and operands that evaluates to some value.\n",
    "For example, \n",
    "(20+3*4) and (3==3)\n"
   ]
  },
  {
   "cell_type": "markdown",
   "id": "2e43b0e9",
   "metadata": {},
   "source": [
    "5. This assignment statements, like spam = 10. What is the difference between an expression and a statement?\n",
    "\n",
    "Expression is something that evaluates to some value whereas the execution of a statement may or may not produce or display a value, it only does whatever the statement says.\n",
    "For example, a=3 is a statement"
   ]
  },
  {
   "cell_type": "markdown",
   "id": "22c305e2",
   "metadata": {},
   "source": [
    "6. After running the following code, what does the variable bacon contain?\n",
    "bacon = 22\n",
    "bacon + 1\n",
    "\n",
    "\n",
    "bacon will have the value as 22 only since the (bacon+1) is an expression and execution of that does not cause a change of state.\n"
   ]
  },
  {
   "cell_type": "markdown",
   "id": "1e6410db",
   "metadata": {},
   "source": [
    "7. What should the values of the following two terms be?\n",
    "\n",
    "'spam' + 'spamspam'  - 'spamspamspam'\n",
    "'spam' * 3  - 'spamspamspam'\n",
    "\n",
    "\n"
   ]
  },
  {
   "cell_type": "markdown",
   "id": "3b65c90e",
   "metadata": {},
   "source": [
    "8. Why is eggs a valid variable name while 100 is invalid?\n",
    "\n",
    "A variable name must start with a letter or underscore and cannot start with a number. So, eggs is a valid variable name and 100 is invalid"
   ]
  },
  {
   "cell_type": "markdown",
   "id": "1fb5ac7f",
   "metadata": {},
   "source": [
    "9. What three functions can be used to get the integer, floating-point number, or string version of a value?\n",
    "\n",
    "int(), float() and str() are the respective three functions to get the integer, floating-point number, or string version of a value.\n",
    "For Example:\n",
    "value=10\n",
    "print(int(value))\n",
    "print(float(value))\n",
    "print(str(value))\n"
   ]
  },
  {
   "cell_type": "markdown",
   "id": "f12eab2b",
   "metadata": {},
   "source": [
    "10. Why does this expression cause an error? How can you fix it?\n",
    "'I have eaten ' + 99 + ' burritos.'\n",
    "\n",
    "\n",
    "This is causing an error since only strings can be concatenated together. str and int cannot be concatenated together without type casting.\n",
    "It can be fixed as given below.\n",
    "'I have eaten ' + \"99\" + ' burritos.'\n",
    "'I have eaten ' + str(99) + ' burritos.'"
   ]
  }
 ],
 "metadata": {
  "kernelspec": {
   "display_name": "Python 3 (ipykernel)",
   "language": "python",
   "name": "python3"
  },
  "language_info": {
   "codemirror_mode": {
    "name": "ipython",
    "version": 3
   },
   "file_extension": ".py",
   "mimetype": "text/x-python",
   "name": "python",
   "nbconvert_exporter": "python",
   "pygments_lexer": "ipython3",
   "version": "3.9.7"
  }
 },
 "nbformat": 4,
 "nbformat_minor": 5
}
